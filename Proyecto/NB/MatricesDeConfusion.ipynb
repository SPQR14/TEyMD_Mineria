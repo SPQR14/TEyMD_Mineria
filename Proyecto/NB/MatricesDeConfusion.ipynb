{
 "cells": [
  {
   "cell_type": "code",
   "execution_count": 1,
   "metadata": {},
   "outputs": [],
   "source": [
    "import pandas as pd\n",
    "import numpy as np\n",
    "import os\n",
    "import matplotlib.pyplot as plt\n",
    "from sklearn.model_selection import train_test_split"
   ]
  },
  {
   "cell_type": "code",
   "execution_count": 2,
   "metadata": {},
   "outputs": [],
   "source": [
    "a = '..\\datos_musica.csv'"
   ]
  },
  {
   "cell_type": "code",
   "execution_count": 3,
   "metadata": {},
   "outputs": [],
   "source": [
    "df = pd.read_csv(a, sep = ',', encoding = 'utf8')"
   ]
  },
  {
   "cell_type": "code",
   "execution_count": 4,
   "metadata": {},
   "outputs": [
    {
     "data": {
      "text/html": [
       "<div>\n",
       "<style scoped>\n",
       "    .dataframe tbody tr th:only-of-type {\n",
       "        vertical-align: middle;\n",
       "    }\n",
       "\n",
       "    .dataframe tbody tr th {\n",
       "        vertical-align: top;\n",
       "    }\n",
       "\n",
       "    .dataframe thead th {\n",
       "        text-align: right;\n",
       "    }\n",
       "</style>\n",
       "<table border=\"1\" class=\"dataframe\">\n",
       "  <thead>\n",
       "    <tr style=\"text-align: right;\">\n",
       "      <th></th>\n",
       "      <th>Unnamed: 0</th>\n",
       "      <th>archivo</th>\n",
       "      <th>zero_cr</th>\n",
       "      <th>spectral_centroid</th>\n",
       "      <th>spectral_bw</th>\n",
       "      <th>spectral_rf</th>\n",
       "      <th>croma</th>\n",
       "      <th>mfcc_1</th>\n",
       "      <th>mfcc_2</th>\n",
       "      <th>mfcc_3</th>\n",
       "      <th>...</th>\n",
       "      <th>mfcc_14</th>\n",
       "      <th>mfcc_15</th>\n",
       "      <th>mfcc_16</th>\n",
       "      <th>mfcc_17</th>\n",
       "      <th>mfcc_18</th>\n",
       "      <th>mfcc_19</th>\n",
       "      <th>mfcc_20</th>\n",
       "      <th>BPM</th>\n",
       "      <th>auto_c</th>\n",
       "      <th>genero</th>\n",
       "    </tr>\n",
       "  </thead>\n",
       "  <tbody>\n",
       "    <tr>\n",
       "      <th>0</th>\n",
       "      <td>0</td>\n",
       "      <td>01-TheMountain_02m_00s__03m_00s.mp3</td>\n",
       "      <td>6</td>\n",
       "      <td>2358.978044</td>\n",
       "      <td>2552.823890</td>\n",
       "      <td>4793.526802</td>\n",
       "      <td>0.470420</td>\n",
       "      <td>-163.372833</td>\n",
       "      <td>165.717529</td>\n",
       "      <td>-50.697205</td>\n",
       "      <td>...</td>\n",
       "      <td>3.419914</td>\n",
       "      <td>1.201207</td>\n",
       "      <td>-3.672799</td>\n",
       "      <td>1.497480</td>\n",
       "      <td>0.186496</td>\n",
       "      <td>0.511725</td>\n",
       "      <td>-5.180268</td>\n",
       "      <td>123.046875</td>\n",
       "      <td>0.772140</td>\n",
       "      <td>prog</td>\n",
       "    </tr>\n",
       "    <tr>\n",
       "      <th>1</th>\n",
       "      <td>1</td>\n",
       "      <td>01ANightmareToRemember_02m_00s__03m_00s.mp3</td>\n",
       "      <td>4</td>\n",
       "      <td>3100.689109</td>\n",
       "      <td>3256.578868</td>\n",
       "      <td>6469.363992</td>\n",
       "      <td>0.596201</td>\n",
       "      <td>-48.062439</td>\n",
       "      <td>135.743393</td>\n",
       "      <td>-53.932007</td>\n",
       "      <td>...</td>\n",
       "      <td>5.244628</td>\n",
       "      <td>1.330808</td>\n",
       "      <td>-2.682353</td>\n",
       "      <td>0.532447</td>\n",
       "      <td>-1.862646</td>\n",
       "      <td>1.804187</td>\n",
       "      <td>-5.636509</td>\n",
       "      <td>109.956782</td>\n",
       "      <td>0.628546</td>\n",
       "      <td>prog</td>\n",
       "    </tr>\n",
       "    <tr>\n",
       "      <th>2</th>\n",
       "      <td>2</td>\n",
       "      <td>01AcidRain_02m_00s__03m_00s.mp3</td>\n",
       "      <td>5</td>\n",
       "      <td>3198.378355</td>\n",
       "      <td>3543.702522</td>\n",
       "      <td>6808.570540</td>\n",
       "      <td>0.546079</td>\n",
       "      <td>-58.244419</td>\n",
       "      <td>134.549545</td>\n",
       "      <td>-35.384872</td>\n",
       "      <td>...</td>\n",
       "      <td>4.593798</td>\n",
       "      <td>1.471745</td>\n",
       "      <td>0.739590</td>\n",
       "      <td>0.728077</td>\n",
       "      <td>-4.671610</td>\n",
       "      <td>3.458641</td>\n",
       "      <td>-1.755218</td>\n",
       "      <td>143.554688</td>\n",
       "      <td>0.541958</td>\n",
       "      <td>prog</td>\n",
       "    </tr>\n",
       "    <tr>\n",
       "      <th>3</th>\n",
       "      <td>3</td>\n",
       "      <td>01BalrogBoogie_02m_00s__03m_00s.mp3</td>\n",
       "      <td>2</td>\n",
       "      <td>2942.011868</td>\n",
       "      <td>3163.903990</td>\n",
       "      <td>6050.917527</td>\n",
       "      <td>0.433330</td>\n",
       "      <td>-91.082634</td>\n",
       "      <td>134.391296</td>\n",
       "      <td>-46.598930</td>\n",
       "      <td>...</td>\n",
       "      <td>2.395693</td>\n",
       "      <td>1.147897</td>\n",
       "      <td>1.289821</td>\n",
       "      <td>-0.101062</td>\n",
       "      <td>-4.962541</td>\n",
       "      <td>3.051191</td>\n",
       "      <td>-2.858684</td>\n",
       "      <td>90.666118</td>\n",
       "      <td>0.541528</td>\n",
       "      <td>prog</td>\n",
       "    </tr>\n",
       "    <tr>\n",
       "      <th>4</th>\n",
       "      <td>4</td>\n",
       "      <td>01C'estlaVie_02m_00s__03m_00s.mp3</td>\n",
       "      <td>5</td>\n",
       "      <td>3123.743239</td>\n",
       "      <td>3337.527859</td>\n",
       "      <td>6499.844646</td>\n",
       "      <td>0.535730</td>\n",
       "      <td>-34.448353</td>\n",
       "      <td>137.779984</td>\n",
       "      <td>-48.767544</td>\n",
       "      <td>...</td>\n",
       "      <td>3.280222</td>\n",
       "      <td>3.242964</td>\n",
       "      <td>-4.131340</td>\n",
       "      <td>1.912559</td>\n",
       "      <td>-6.067165</td>\n",
       "      <td>2.728408</td>\n",
       "      <td>-6.114751</td>\n",
       "      <td>120.185320</td>\n",
       "      <td>0.746078</td>\n",
       "      <td>prog</td>\n",
       "    </tr>\n",
       "  </tbody>\n",
       "</table>\n",
       "<p>5 rows × 30 columns</p>\n",
       "</div>"
      ],
      "text/plain": [
       "   Unnamed: 0                                      archivo  zero_cr  \\\n",
       "0           0          01-TheMountain_02m_00s__03m_00s.mp3        6   \n",
       "1           1  01ANightmareToRemember_02m_00s__03m_00s.mp3        4   \n",
       "2           2              01AcidRain_02m_00s__03m_00s.mp3        5   \n",
       "3           3          01BalrogBoogie_02m_00s__03m_00s.mp3        2   \n",
       "4           4            01C'estlaVie_02m_00s__03m_00s.mp3        5   \n",
       "\n",
       "   spectral_centroid  spectral_bw  spectral_rf     croma      mfcc_1  \\\n",
       "0        2358.978044  2552.823890  4793.526802  0.470420 -163.372833   \n",
       "1        3100.689109  3256.578868  6469.363992  0.596201  -48.062439   \n",
       "2        3198.378355  3543.702522  6808.570540  0.546079  -58.244419   \n",
       "3        2942.011868  3163.903990  6050.917527  0.433330  -91.082634   \n",
       "4        3123.743239  3337.527859  6499.844646  0.535730  -34.448353   \n",
       "\n",
       "       mfcc_2     mfcc_3  ...   mfcc_14   mfcc_15   mfcc_16   mfcc_17  \\\n",
       "0  165.717529 -50.697205  ...  3.419914  1.201207 -3.672799  1.497480   \n",
       "1  135.743393 -53.932007  ...  5.244628  1.330808 -2.682353  0.532447   \n",
       "2  134.549545 -35.384872  ...  4.593798  1.471745  0.739590  0.728077   \n",
       "3  134.391296 -46.598930  ...  2.395693  1.147897  1.289821 -0.101062   \n",
       "4  137.779984 -48.767544  ...  3.280222  3.242964 -4.131340  1.912559   \n",
       "\n",
       "    mfcc_18   mfcc_19   mfcc_20         BPM    auto_c  genero  \n",
       "0  0.186496  0.511725 -5.180268  123.046875  0.772140    prog  \n",
       "1 -1.862646  1.804187 -5.636509  109.956782  0.628546    prog  \n",
       "2 -4.671610  3.458641 -1.755218  143.554688  0.541958    prog  \n",
       "3 -4.962541  3.051191 -2.858684   90.666118  0.541528    prog  \n",
       "4 -6.067165  2.728408 -6.114751  120.185320  0.746078    prog  \n",
       "\n",
       "[5 rows x 30 columns]"
      ]
     },
     "execution_count": 4,
     "metadata": {},
     "output_type": "execute_result"
    }
   ],
   "source": [
    "df.head()"
   ]
  },
  {
   "cell_type": "code",
   "execution_count": 31,
   "metadata": {},
   "outputs": [],
   "source": [
    "from sklearn.preprocessing import MinMaxScaler\n",
    "from sklearn.manifold import MDS\n",
    "from sklearn.metrics import confusion_matrix"
   ]
  },
  {
   "cell_type": "code",
   "execution_count": 6,
   "metadata": {},
   "outputs": [],
   "source": [
    "df_aux = df.drop(['archivo'], axis = 1)"
   ]
  },
  {
   "cell_type": "code",
   "execution_count": 7,
   "metadata": {},
   "outputs": [],
   "source": [
    "def codificar_generos(x):\n",
    "    if x == 'prog':\n",
    "        return 0\n",
    "    elif x == 'salsa':\n",
    "        return 1\n",
    "    elif x == 'electronica':\n",
    "        return 2"
   ]
  },
  {
   "cell_type": "code",
   "execution_count": 8,
   "metadata": {},
   "outputs": [],
   "source": [
    "\n",
    "df_aux['target'] = df_aux['genero'].map(codificar_generos)"
   ]
  },
  {
   "cell_type": "code",
   "execution_count": 9,
   "metadata": {},
   "outputs": [],
   "source": [
    "\n",
    "df_aux = df_aux.drop(['genero'], axis = 1)"
   ]
  },
  {
   "cell_type": "code",
   "execution_count": 10,
   "metadata": {},
   "outputs": [],
   "source": [
    "vars_num = 'zero_cr spectral_centroid spectral_bw spectral_rf croma mfcc_1 mfcc_2 mfcc_3 mfcc_4 mfcc_5 mfcc_6 mfcc_7 mfcc_8 mfcc_9 mfcc_10 mfcc_11 mfcc_12 mfcc_13 mfcc_14 mfcc_15 mfcc_16 mfcc_17 mfcc_18 mfcc_19 mfcc_20 BPM auto_c'\n",
    "vars_num = vars_num.split()\n",
    "\n",
    "# Creamos una variable X que contenga todas las características y una Y que sea el 'target'\n",
    "X = df_aux[vars_num].copy()\n",
    "Y = df_aux['target'].copy()"
   ]
  },
  {
   "cell_type": "code",
   "execution_count": 11,
   "metadata": {},
   "outputs": [],
   "source": [
    "sc = MinMaxScaler()\n",
    "sc.fit(X)\n",
    "Xs = pd.DataFrame(sc.transform(X),columns=X.columns)"
   ]
  },
  {
   "cell_type": "code",
   "execution_count": 12,
   "metadata": {},
   "outputs": [
    {
     "name": "stdout",
     "output_type": "stream",
     "text": [
      "Tamaño x_train: 273\n",
      "Tamaño y_train: 273\n",
      "Tamaño x_test: 117\n",
      "Tamaño y_test: 117\n",
      "Porcentajes: \n",
      "train: 70.0%\n",
      "test: 30.0%\n"
     ]
    }
   ],
   "source": [
    "#dividimos el data frame \n",
    "X_train,X_test,y_train,y_test = train_test_split(Xs,Y, train_size = 0.7)\n",
    "print(f'Tamaño x_train: {len(X_train)}\\nTamaño y_train: {len(y_train)}\\nTamaño x_test: {len(X_test)}\\nTamaño y_test: {len(y_test)}')\n",
    "print(f'Porcentajes: \\ntrain: {(len(X_train) / 390) * 100}%\\ntest: {(len(X_test) / 390) * 100}%' )"
   ]
  },
  {
   "cell_type": "code",
   "execution_count": 17,
   "metadata": {},
   "outputs": [
    {
     "data": {
      "text/plain": [
       "KNeighborsClassifier()"
      ]
     },
     "execution_count": 17,
     "metadata": {},
     "output_type": "execute_result"
    }
   ],
   "source": [
    "from sklearn.neighbors import KNeighborsClassifier\n",
    "modelo = KNeighborsClassifier()\n",
    "modelo.fit(X_train, y_train)"
   ]
  },
  {
   "cell_type": "code",
   "execution_count": 99,
   "metadata": {},
   "outputs": [
    {
     "name": "stdout",
     "output_type": "stream",
     "text": [
      "[[77  4  1]\n",
      " [ 4 91  2]\n",
      " [ 2  4 88]]\n"
     ]
    }
   ],
   "source": [
    "print(confusion_matrix(y_true=y_train,y_pred = modelo.predict(X_train)))"
   ]
  },
  {
   "cell_type": "code",
   "execution_count": 23,
   "metadata": {},
   "outputs": [],
   "source": [
    "##Matriz de confusion de entrenamiento"
   ]
  },
  {
   "cell_type": "code",
   "execution_count": 91,
   "metadata": {},
   "outputs": [
    {
     "data": {
      "text/plain": [
       "array([[77,  4,  1],\n",
       "       [ 4, 91,  2],\n",
       "       [ 2,  4, 88]], dtype=int64)"
      ]
     },
     "execution_count": 91,
     "metadata": {},
     "output_type": "execute_result"
    }
   ],
   "source": [
    "y_true =y_train\n",
    "y_pred = modelo.predict(X_train)\n",
    "confusion_matrix(y_true,y_pred)"
   ]
  },
  {
   "cell_type": "code",
   "execution_count": 41,
   "metadata": {},
   "outputs": [
    {
     "name": "stdout",
     "output_type": "stream",
     "text": [
      "Predicted   0   1   2\n",
      "Actual               \n",
      "0          87   7   1\n",
      "1           8  78   2\n",
      "2           5   5  80\n"
     ]
    }
   ],
   "source": [
    "df_confusion = pd.crosstab(y_true, y_pred, rownames=['Actual'], colnames=['Predicted'], margins= False)\n",
    "print(df_confusion)"
   ]
  },
  {
   "cell_type": "code",
   "execution_count": 42,
   "metadata": {},
   "outputs": [
    {
     "name": "stdout",
     "output_type": "stream",
     "text": [
      "Predicted         0         1         2\n",
      "Actual                                 \n",
      "0          0.915789  0.079545  0.011111\n",
      "1          0.084211  0.886364  0.022222\n",
      "2          0.052632  0.056818  0.888889\n"
     ]
    }
   ],
   "source": [
    "df_conf_norm = df_confusion / df_confusion.sum(axis=1)\n",
    "print(df_conf_norm)"
   ]
  },
  {
   "cell_type": "code",
   "execution_count": 24,
   "metadata": {},
   "outputs": [
    {
     "data": {
      "image/png": "[encoded data removed]",
      "text/plain": [
       "<Figure size 288x288 with 2 Axes>"
      ]
     },
     "metadata": {
      "needs_background": "light"
     },
     "output_type": "display_data"
    }
   ],
   "source": [
    "def plot_confusion_matrix(df_confusion, title='Matriz de confusion', cmap=plt.cm.gray_r):\n",
    "    plt.matshow(df_confusion, cmap=cmap)\n",
    "    plt.title(title)\n",
    "    plt.colorbar()\n",
    "    tick_marks = np.arange(len(df_confusion.columns))\n",
    "    plt.xticks(tick_marks, df_confusion.columns, rotation=45)\n",
    "    plt.yticks(tick_marks, df_confusion.index)\n",
    "    plt.ylabel(df_confusion.index.name)\n",
    "    plt.xlabel(df_confusion.columns.name)\n",
    "\n",
    "plot_confusion_matrix(df_confusion)"
   ]
  },
  {
   "cell_type": "code",
   "execution_count": 44,
   "metadata": {},
   "outputs": [
    {
     "data": {
      "image/png": "[encoded data removed]",
      "text/plain": [
       "<Figure size 288x288 with 2 Axes>"
      ]
     },
     "metadata": {
      "needs_background": "light"
     },
     "output_type": "display_data"
    }
   ],
   "source": [
    "plot_confusion_matrix(df_conf_norm) "
   ]
  },
  {
   "cell_type": "code",
   "execution_count": 34,
   "metadata": {},
   "outputs": [],
   "source": [
    "##Matriz de confusion de prueba "
   ]
  },
  {
   "cell_type": "code",
   "execution_count": 93,
   "metadata": {},
   "outputs": [
    {
     "name": "stdout",
     "output_type": "stream",
     "text": [
      "[[41  7  0]\n",
      " [ 5 28  0]\n",
      " [ 3  2 31]]\n"
     ]
    }
   ],
   "source": [
    "y_true=y_test\n",
    "y_pred = modelo.predict(X_test)\n",
    "print(confusion_matrix(y_true,y_pred))"
   ]
  },
  {
   "cell_type": "code",
   "execution_count": 96,
   "metadata": {},
   "outputs": [
    {
     "name": "stdout",
     "output_type": "stream",
     "text": [
      "Predicted   0   1   2\n",
      "Actual               \n",
      "0          41   7   0\n",
      "1           5  28   0\n",
      "2           3   2  31\n"
     ]
    }
   ],
   "source": [
    "df_confusion = pd.crosstab(y_true, y_pred, rownames=['Actual'], colnames=['Predicted'], margins= False)\n",
    "print(df_confusion)"
   ]
  },
  {
   "cell_type": "code",
   "execution_count": 97,
   "metadata": {},
   "outputs": [
    {
     "name": "stdout",
     "output_type": "stream",
     "text": [
      "Predicted         0         1         2\n",
      "Actual                                 \n",
      "0          0.854167  0.212121  0.000000\n",
      "1          0.104167  0.848485  0.000000\n",
      "2          0.062500  0.060606  0.861111\n"
     ]
    }
   ],
   "source": [
    "df_conf_norm = df_confusion / df_confusion.sum(axis=1)\n",
    "print(df_conf_norm)"
   ]
  },
  {
   "cell_type": "code",
   "execution_count": 98,
   "metadata": {},
   "outputs": [
    {
     "data": {
      "image/png": "[encoded data removed]",
      "text/plain": [
       "<Figure size 288x288 with 2 Axes>"
      ]
     },
     "metadata": {
      "needs_background": "light"
     },
     "output_type": "display_data"
    }
   ],
   "source": [
    "plot_confusion_matrix(df_confusion)"
   ]
  },
  {
   "cell_type": "code",
   "execution_count": 73,
   "metadata": {},
   "outputs": [],
   "source": [
    "###Red Neuronal "
   ]
  },
  {
   "cell_type": "code",
   "execution_count": 15,
   "metadata": {},
   "outputs": [],
   "source": [
    "from sklearn.neural_network import MLPClassifier"
   ]
  },
  {
   "cell_type": "code",
   "execution_count": 26,
   "metadata": {},
   "outputs": [],
   "source": [
    "def metricas(modelo,Xt,Xv,yt,yv):\n",
    "    print('roc:\\n')\n",
    "    print(roc_auc_score(y_true=yt,y_score=modelo.predict_proba(Xt)[:,1]))\n",
    "    print(roc_auc_score(y_true=yv,y_score=modelo.predict_proba(Xv)[:,1]))\n",
    "    print('accuracy:\\n')\n",
    "    print(accuracy_score(y_true=yt,y_pred=modelo.predict(Xt)))\n",
    "    print(accuracy_score(y_true=yv,y_pred=modelo.predict(Xv)))"
   ]
  },
  {
   "cell_type": "code",
   "execution_count": 27,
   "metadata": {},
   "outputs": [],
   "source": [
    "param=dict(hidden_layer_sizes = [(x,y,z,) for x in range(5,65,5) for y in range(5,65,5) for z in range(5,65,5)],\n",
    "           activation = ['identity', 'logistic', 'tanh', 'relu'],\n",
    "        learning_rate = ['constant', 'invscaling', 'adaptive'])"
   ]
  },
  {
   "cell_type": "code",
   "execution_count": 28,
   "metadata": {},
   "outputs": [
    {
     "name": "stderr",
     "output_type": "stream",
     "text": [
      "c:\\users\\aperalta\\downloads\\diana\\ambientemineria\\mineria\\lib\\site-packages\\sklearn\\neural_network\\_multilayer_perceptron.py:582: ConvergenceWarning: Stochastic Optimizer: Maximum iterations (200) reached and the optimization hasn't converged yet.\n",
      "  warnings.warn(\n"
     ]
    },
    {
     "data": {
      "text/plain": [
       "MLPClassifier()"
      ]
     },
     "execution_count": 28,
     "metadata": {},
     "output_type": "execute_result"
    }
   ],
   "source": [
    "modelo = MLPClassifier()\n",
    "modelo.fit(X_train,y_train)"
   ]
  },
  {
   "cell_type": "code",
   "execution_count": 36,
   "metadata": {},
   "outputs": [],
   "source": [
    "###Matriz confusion entrenamiento"
   ]
  },
  {
   "cell_type": "code",
   "execution_count": 29,
   "metadata": {},
   "outputs": [],
   "source": [
    "y_true=y_train\n",
    "y_pred = modelo.predict(X_train)"
   ]
  },
  {
   "cell_type": "code",
   "execution_count": 32,
   "metadata": {},
   "outputs": [
    {
     "name": "stdout",
     "output_type": "stream",
     "text": [
      "[[80  4  3]\n",
      " [ 3 93  0]\n",
      " [ 6  3 81]]\n"
     ]
    }
   ],
   "source": [
    "print(confusion_matrix(y_true,y_pred))"
   ]
  },
  {
   "cell_type": "code",
   "execution_count": 33,
   "metadata": {},
   "outputs": [
    {
     "name": "stdout",
     "output_type": "stream",
     "text": [
      "Predicted   0   1   2\n",
      "Actual               \n",
      "0          80   4   3\n",
      "1           3  93   0\n",
      "2           6   3  81\n"
     ]
    }
   ],
   "source": [
    "df_confusion = pd.crosstab(y_true, y_pred, rownames=['Actual'], colnames=['Predicted'], margins= False)\n",
    "print(df_confusion)"
   ]
  },
  {
   "cell_type": "code",
   "execution_count": 34,
   "metadata": {},
   "outputs": [
    {
     "name": "stdout",
     "output_type": "stream",
     "text": [
      "Predicted         0         1         2\n",
      "Actual                                 \n",
      "0          0.919540  0.041667  0.033333\n",
      "1          0.034483  0.968750  0.000000\n",
      "2          0.068966  0.031250  0.900000\n"
     ]
    }
   ],
   "source": [
    "df_conf_norm = df_confusion / df_confusion.sum(axis=1)\n",
    "print(df_conf_norm)"
   ]
  },
  {
   "cell_type": "code",
   "execution_count": 35,
   "metadata": {},
   "outputs": [
    {
     "data": {
      "image/png": "[encoded data removed]",
      "text/plain": [
       "<Figure size 288x288 with 2 Axes>"
      ]
     },
     "metadata": {
      "needs_background": "light"
     },
     "output_type": "display_data"
    }
   ],
   "source": [
    "plot_confusion_matrix(df_confusion)"
   ]
  },
  {
   "cell_type": "code",
   "execution_count": 65,
   "metadata": {},
   "outputs": [],
   "source": [
    "##Matriz de confusion de Prueba"
   ]
  },
  {
   "cell_type": "code",
   "execution_count": 68,
   "metadata": {},
   "outputs": [],
   "source": [
    "y_true=y_test\n",
    "y_pred = modelo.predict(X_test)"
   ]
  },
  {
   "cell_type": "code",
   "execution_count": 69,
   "metadata": {},
   "outputs": [
    {
     "name": "stdout",
     "output_type": "stream",
     "text": [
      "[[31  2  2]\n",
      " [ 5 36  1]\n",
      " [ 2  0 38]]\n"
     ]
    }
   ],
   "source": [
    "print(confusion_matrix(y_true,y_pred))"
   ]
  },
  {
   "cell_type": "code",
   "execution_count": 70,
   "metadata": {},
   "outputs": [
    {
     "name": "stdout",
     "output_type": "stream",
     "text": [
      "Predicted   0   1   2\n",
      "Actual               \n",
      "0          31   2   2\n",
      "1           5  36   1\n",
      "2           2   0  38\n"
     ]
    }
   ],
   "source": [
    "df_confusion = pd.crosstab(y_true, y_pred, rownames=['Actual'], colnames=['Predicted'], margins= False)\n",
    "print(df_confusion)"
   ]
  },
  {
   "cell_type": "code",
   "execution_count": 71,
   "metadata": {},
   "outputs": [
    {
     "name": "stdout",
     "output_type": "stream",
     "text": [
      "Predicted         0         1      2\n",
      "Actual                              \n",
      "0          0.885714  0.047619  0.050\n",
      "1          0.142857  0.857143  0.025\n",
      "2          0.057143  0.000000  0.950\n"
     ]
    }
   ],
   "source": [
    "df_conf_norm = df_confusion / df_confusion.sum(axis=1)\n",
    "print(df_conf_norm)"
   ]
  },
  {
   "cell_type": "code",
   "execution_count": 72,
   "metadata": {},
   "outputs": [
    {
     "data": {
      "image/png": "[encoded data removed]",
      "text/plain": [
       "<Figure size 288x288 with 2 Axes>"
      ]
     },
     "metadata": {
      "needs_background": "light"
     },
     "output_type": "display_data"
    }
   ],
   "source": [
    "plot_confusion_matrix(df_confusion)"
   ]
  }
 ],
 "metadata": {
  "kernelspec": {
   "display_name": "mineria",
   "language": "python",
   "name": "mineria"
  },
  "language_info": {
   "codemirror_mode": {
    "name": "ipython",
    "version": 3
   },
   "file_extension": ".py",
   "mimetype": "text/x-python",
   "name": "python",
   "nbconvert_exporter": "python",
   "pygments_lexer": "ipython3",
   "version": "3.8.5"
  }
 },
 "nbformat": 4,
 "nbformat_minor": 4
}
