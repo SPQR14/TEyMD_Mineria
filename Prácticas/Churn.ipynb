{
 "cells": [
  {
   "cell_type": "code",
   "execution_count": 1,
   "metadata": {},
   "outputs": [],
   "source": [
    "import pandas as pd\n",
    "import numpy as np\n",
    "import matplotlib.pyplot as plt\n",
    "import seaborn as sns\n",
    "%matplotlib inline\n",
    "pd.set_option('display.max_columns',500)"
   ]
  },
  {
   "cell_type": "code",
   "execution_count": 2,
   "metadata": {},
   "outputs": [],
   "source": [
    "df = pd.read_excel('churn.xlsx')"
   ]
  },
  {
   "cell_type": "code",
   "execution_count": 3,
   "metadata": {},
   "outputs": [
    {
     "data": {
      "text/html": [
       "<div>\n",
       "<style scoped>\n",
       "    .dataframe tbody tr th:only-of-type {\n",
       "        vertical-align: middle;\n",
       "    }\n",
       "\n",
       "    .dataframe tbody tr th {\n",
       "        vertical-align: top;\n",
       "    }\n",
       "\n",
       "    .dataframe thead th {\n",
       "        text-align: right;\n",
       "    }\n",
       "</style>\n",
       "<table border=\"1\" class=\"dataframe\">\n",
       "  <thead>\n",
       "    <tr style=\"text-align: right;\">\n",
       "      <th></th>\n",
       "      <th>V_ACCT_LGHT</th>\n",
       "      <th>C_IP</th>\n",
       "      <th>C_VMP</th>\n",
       "      <th>V_N_VM_MESS</th>\n",
       "      <th>V_T_DAY_CHG</th>\n",
       "      <th>V_T_EVE_CALLS</th>\n",
       "      <th>V_T_EVE_CHG</th>\n",
       "      <th>V_T_NIG_CALLS</th>\n",
       "      <th>V_T_NIG_CHG</th>\n",
       "      <th>V_T_INT_CALLS</th>\n",
       "      <th>V_T_INT_CHG</th>\n",
       "      <th>V_CS_CALLS</th>\n",
       "      <th>TARGET</th>\n",
       "      <th>ID</th>\n",
       "    </tr>\n",
       "  </thead>\n",
       "  <tbody>\n",
       "    <tr>\n",
       "      <th>0</th>\n",
       "      <td>128</td>\n",
       "      <td>No</td>\n",
       "      <td>Yes</td>\n",
       "      <td>25</td>\n",
       "      <td>45.07</td>\n",
       "      <td>99</td>\n",
       "      <td>16.78</td>\n",
       "      <td>91</td>\n",
       "      <td>11.01</td>\n",
       "      <td>3</td>\n",
       "      <td>2.70</td>\n",
       "      <td>1</td>\n",
       "      <td>0</td>\n",
       "      <td>1</td>\n",
       "    </tr>\n",
       "    <tr>\n",
       "      <th>1</th>\n",
       "      <td>107</td>\n",
       "      <td>No</td>\n",
       "      <td>Yes</td>\n",
       "      <td>26</td>\n",
       "      <td>27.47</td>\n",
       "      <td>103</td>\n",
       "      <td>16.62</td>\n",
       "      <td>103</td>\n",
       "      <td>11.45</td>\n",
       "      <td>3</td>\n",
       "      <td>3.70</td>\n",
       "      <td>1</td>\n",
       "      <td>0</td>\n",
       "      <td>2</td>\n",
       "    </tr>\n",
       "    <tr>\n",
       "      <th>2</th>\n",
       "      <td>137</td>\n",
       "      <td>No</td>\n",
       "      <td>No</td>\n",
       "      <td>0</td>\n",
       "      <td>41.38</td>\n",
       "      <td>110</td>\n",
       "      <td>10.30</td>\n",
       "      <td>104</td>\n",
       "      <td>7.32</td>\n",
       "      <td>5</td>\n",
       "      <td>3.29</td>\n",
       "      <td>0</td>\n",
       "      <td>0</td>\n",
       "      <td>3</td>\n",
       "    </tr>\n",
       "    <tr>\n",
       "      <th>3</th>\n",
       "      <td>65</td>\n",
       "      <td>No</td>\n",
       "      <td>No</td>\n",
       "      <td>0</td>\n",
       "      <td>21.95</td>\n",
       "      <td>83</td>\n",
       "      <td>19.42</td>\n",
       "      <td>111</td>\n",
       "      <td>9.40</td>\n",
       "      <td>6</td>\n",
       "      <td>3.43</td>\n",
       "      <td>4</td>\n",
       "      <td>1</td>\n",
       "      <td>11</td>\n",
       "    </tr>\n",
       "    <tr>\n",
       "      <th>4</th>\n",
       "      <td>168</td>\n",
       "      <td>No</td>\n",
       "      <td>No</td>\n",
       "      <td>0</td>\n",
       "      <td>21.90</td>\n",
       "      <td>71</td>\n",
       "      <td>8.92</td>\n",
       "      <td>128</td>\n",
       "      <td>6.35</td>\n",
       "      <td>2</td>\n",
       "      <td>3.02</td>\n",
       "      <td>1</td>\n",
       "      <td>0</td>\n",
       "      <td>13</td>\n",
       "    </tr>\n",
       "  </tbody>\n",
       "</table>\n",
       "</div>"
      ],
      "text/plain": [
       "   V_ACCT_LGHT C_IP C_VMP  V_N_VM_MESS  V_T_DAY_CHG  V_T_EVE_CALLS  \\\n",
       "0          128   No   Yes           25        45.07             99   \n",
       "1          107   No   Yes           26        27.47            103   \n",
       "2          137   No    No            0        41.38            110   \n",
       "3           65   No    No            0        21.95             83   \n",
       "4          168   No    No            0        21.90             71   \n",
       "\n",
       "   V_T_EVE_CHG  V_T_NIG_CALLS  V_T_NIG_CHG  V_T_INT_CALLS  V_T_INT_CHG  \\\n",
       "0        16.78             91        11.01              3         2.70   \n",
       "1        16.62            103        11.45              3         3.70   \n",
       "2        10.30            104         7.32              5         3.29   \n",
       "3        19.42            111         9.40              6         3.43   \n",
       "4         8.92            128         6.35              2         3.02   \n",
       "\n",
       "   V_CS_CALLS  TARGET  ID  \n",
       "0           1       0   1  \n",
       "1           1       0   2  \n",
       "2           0       0   3  \n",
       "3           4       1  11  \n",
       "4           1       0  13  "
      ]
     },
     "execution_count": 3,
     "metadata": {},
     "output_type": "execute_result"
    }
   ],
   "source": [
    "df.head()"
   ]
  },
  {
   "cell_type": "code",
   "execution_count": 4,
   "metadata": {},
   "outputs": [],
   "source": [
    "varc = [c for c in df.columns if c[:2]=='V_']\n",
    "vard = [c for c in df.columns if c[:2]=='C_']"
   ]
  },
  {
   "cell_type": "code",
   "execution_count": 5,
   "metadata": {},
   "outputs": [
    {
     "name": "stdout",
     "output_type": "stream",
     "text": [
      "No     0.90432\n",
      "Yes    0.09568\n",
      "Name: C_IP, dtype: float64\n",
      "\n",
      "\n",
      "No     0.729739\n",
      "Yes    0.270261\n",
      "Name: C_VMP, dtype: float64\n",
      "\n",
      "\n"
     ]
    }
   ],
   "source": [
    "for c in vard:\n",
    "    print(df[c].value_counts(normalize=True))\n",
    "    print('\\n')"
   ]
  },
  {
   "cell_type": "code",
   "execution_count": 6,
   "metadata": {
    "scrolled": false
   },
   "outputs": [
    {
     "data": {
      "text/html": [
       "<div>\n",
       "<style scoped>\n",
       "    .dataframe tbody tr th:only-of-type {\n",
       "        vertical-align: middle;\n",
       "    }\n",
       "\n",
       "    .dataframe tbody tr th {\n",
       "        vertical-align: top;\n",
       "    }\n",
       "\n",
       "    .dataframe thead th {\n",
       "        text-align: right;\n",
       "    }\n",
       "</style>\n",
       "<table border=\"1\" class=\"dataframe\">\n",
       "  <thead>\n",
       "    <tr style=\"text-align: right;\">\n",
       "      <th></th>\n",
       "      <th>V_ACCT_LGHT</th>\n",
       "      <th>V_N_VM_MESS</th>\n",
       "      <th>V_T_DAY_CHG</th>\n",
       "      <th>V_T_EVE_CALLS</th>\n",
       "      <th>V_T_EVE_CHG</th>\n",
       "      <th>V_T_NIG_CALLS</th>\n",
       "      <th>V_T_NIG_CHG</th>\n",
       "      <th>V_T_INT_CALLS</th>\n",
       "      <th>V_T_INT_CHG</th>\n",
       "      <th>V_CS_CALLS</th>\n",
       "    </tr>\n",
       "  </thead>\n",
       "  <tbody>\n",
       "    <tr>\n",
       "      <th>count</th>\n",
       "      <td>2801.000000</td>\n",
       "      <td>2801.000000</td>\n",
       "      <td>2801.000000</td>\n",
       "      <td>2801.000000</td>\n",
       "      <td>2801.000000</td>\n",
       "      <td>2801.000000</td>\n",
       "      <td>2801.000000</td>\n",
       "      <td>2801.000000</td>\n",
       "      <td>2801.000000</td>\n",
       "      <td>2801.000000</td>\n",
       "    </tr>\n",
       "    <tr>\n",
       "      <th>mean</th>\n",
       "      <td>101.033559</td>\n",
       "      <td>7.805784</td>\n",
       "      <td>30.545812</td>\n",
       "      <td>100.234559</td>\n",
       "      <td>17.108693</td>\n",
       "      <td>100.231703</td>\n",
       "      <td>9.025773</td>\n",
       "      <td>4.443770</td>\n",
       "      <td>2.778911</td>\n",
       "      <td>1.544448</td>\n",
       "    </tr>\n",
       "    <tr>\n",
       "      <th>std</th>\n",
       "      <td>37.575889</td>\n",
       "      <td>13.349831</td>\n",
       "      <td>8.630344</td>\n",
       "      <td>18.625260</td>\n",
       "      <td>4.043765</td>\n",
       "      <td>18.488439</td>\n",
       "      <td>2.132611</td>\n",
       "      <td>2.276855</td>\n",
       "      <td>0.684567</td>\n",
       "      <td>1.267832</td>\n",
       "    </tr>\n",
       "    <tr>\n",
       "      <th>min</th>\n",
       "      <td>12.000000</td>\n",
       "      <td>0.000000</td>\n",
       "      <td>8.810000</td>\n",
       "      <td>53.000000</td>\n",
       "      <td>6.740000</td>\n",
       "      <td>57.000000</td>\n",
       "      <td>3.570000</td>\n",
       "      <td>1.000000</td>\n",
       "      <td>0.890000</td>\n",
       "      <td>0.000000</td>\n",
       "    </tr>\n",
       "    <tr>\n",
       "      <th>1%</th>\n",
       "      <td>19.000000</td>\n",
       "      <td>0.000000</td>\n",
       "      <td>10.680000</td>\n",
       "      <td>58.000000</td>\n",
       "      <td>7.850000</td>\n",
       "      <td>61.000000</td>\n",
       "      <td>4.340000</td>\n",
       "      <td>1.000000</td>\n",
       "      <td>1.160000</td>\n",
       "      <td>0.000000</td>\n",
       "    </tr>\n",
       "    <tr>\n",
       "      <th>50%</th>\n",
       "      <td>101.000000</td>\n",
       "      <td>0.000000</td>\n",
       "      <td>30.460000</td>\n",
       "      <td>100.000000</td>\n",
       "      <td>17.200000</td>\n",
       "      <td>100.000000</td>\n",
       "      <td>9.040000</td>\n",
       "      <td>4.000000</td>\n",
       "      <td>2.780000</td>\n",
       "      <td>1.000000</td>\n",
       "    </tr>\n",
       "    <tr>\n",
       "      <th>99%</th>\n",
       "      <td>185.000000</td>\n",
       "      <td>41.000000</td>\n",
       "      <td>49.500000</td>\n",
       "      <td>142.000000</td>\n",
       "      <td>25.930000</td>\n",
       "      <td>142.000000</td>\n",
       "      <td>13.740000</td>\n",
       "      <td>11.000000</td>\n",
       "      <td>4.290000</td>\n",
       "      <td>5.000000</td>\n",
       "    </tr>\n",
       "    <tr>\n",
       "      <th>max</th>\n",
       "      <td>195.000000</td>\n",
       "      <td>43.000000</td>\n",
       "      <td>51.880000</td>\n",
       "      <td>147.000000</td>\n",
       "      <td>27.120000</td>\n",
       "      <td>147.000000</td>\n",
       "      <td>14.300000</td>\n",
       "      <td>13.000000</td>\n",
       "      <td>4.510000</td>\n",
       "      <td>6.000000</td>\n",
       "    </tr>\n",
       "  </tbody>\n",
       "</table>\n",
       "</div>"
      ],
      "text/plain": [
       "       V_ACCT_LGHT  V_N_VM_MESS  V_T_DAY_CHG  V_T_EVE_CALLS  V_T_EVE_CHG  \\\n",
       "count  2801.000000  2801.000000  2801.000000    2801.000000  2801.000000   \n",
       "mean    101.033559     7.805784    30.545812     100.234559    17.108693   \n",
       "std      37.575889    13.349831     8.630344      18.625260     4.043765   \n",
       "min      12.000000     0.000000     8.810000      53.000000     6.740000   \n",
       "1%       19.000000     0.000000    10.680000      58.000000     7.850000   \n",
       "50%     101.000000     0.000000    30.460000     100.000000    17.200000   \n",
       "99%     185.000000    41.000000    49.500000     142.000000    25.930000   \n",
       "max     195.000000    43.000000    51.880000     147.000000    27.120000   \n",
       "\n",
       "       V_T_NIG_CALLS  V_T_NIG_CHG  V_T_INT_CALLS  V_T_INT_CHG   V_CS_CALLS  \n",
       "count    2801.000000  2801.000000    2801.000000  2801.000000  2801.000000  \n",
       "mean      100.231703     9.025773       4.443770     2.778911     1.544448  \n",
       "std        18.488439     2.132611       2.276855     0.684567     1.267832  \n",
       "min        57.000000     3.570000       1.000000     0.890000     0.000000  \n",
       "1%         61.000000     4.340000       1.000000     1.160000     0.000000  \n",
       "50%       100.000000     9.040000       4.000000     2.780000     1.000000  \n",
       "99%       142.000000    13.740000      11.000000     4.290000     5.000000  \n",
       "max       147.000000    14.300000      13.000000     4.510000     6.000000  "
      ]
     },
     "execution_count": 6,
     "metadata": {},
     "output_type": "execute_result"
    }
   ],
   "source": [
    "df[varc].describe(percentiles=[0.01,0.99])"
   ]
  },
  {
   "cell_type": "code",
   "execution_count": 7,
   "metadata": {},
   "outputs": [],
   "source": [
    "df=df[(df['V_ACCT_LGHT']>=19) & (df['V_ACCT_LGHT']<=185)].copy()"
   ]
  },
  {
   "cell_type": "code",
   "execution_count": 8,
   "metadata": {},
   "outputs": [
    {
     "data": {
      "text/plain": [
       "(2751, 14)"
      ]
     },
     "execution_count": 8,
     "metadata": {},
     "output_type": "execute_result"
    }
   ],
   "source": [
    "df.shape"
   ]
  },
  {
   "cell_type": "code",
   "execution_count": 9,
   "metadata": {},
   "outputs": [],
   "source": [
    "df.reset_index(drop=True,inplace=True)\n",
    "df['ID'] = df.index+1"
   ]
  },
  {
   "cell_type": "code",
   "execution_count": 10,
   "metadata": {},
   "outputs": [
    {
     "data": {
      "text/plain": [
       "array([[<matplotlib.axes._subplots.AxesSubplot object at 0x7fba73af4160>,\n",
       "        <matplotlib.axes._subplots.AxesSubplot object at 0x7fba72f5ada0>,\n",
       "        <matplotlib.axes._subplots.AxesSubplot object at 0x7fba72f2b048>],\n",
       "       [<matplotlib.axes._subplots.AxesSubplot object at 0x7fba70ed12b0>,\n",
       "        <matplotlib.axes._subplots.AxesSubplot object at 0x7fba70efc518>,\n",
       "        <matplotlib.axes._subplots.AxesSubplot object at 0x7fba70ea2710>],\n",
       "       [<matplotlib.axes._subplots.AxesSubplot object at 0x7fba70ec99e8>,\n",
       "        <matplotlib.axes._subplots.AxesSubplot object at 0x7fba70e73f98>,\n",
       "        <matplotlib.axes._subplots.AxesSubplot object at 0x7fba70e73fd0>],\n",
       "       [<matplotlib.axes._subplots.AxesSubplot object at 0x7fba70e48a58>,\n",
       "        <matplotlib.axes._subplots.AxesSubplot object at 0x7fba70df2fd0>,\n",
       "        <matplotlib.axes._subplots.AxesSubplot object at 0x7fba70da1588>]],\n",
       "      dtype=object)"
      ]
     },
     "execution_count": 10,
     "metadata": {},
     "output_type": "execute_result"
    },
    {
     "data": {
      "image/png": "[encoded data removed]",
      "text/plain": [
       "<Figure size 432x288 with 12 Axes>"
      ]
     },
     "metadata": {
      "needs_background": "light"
     },
     "output_type": "display_data"
    }
   ],
   "source": [
    "df[varc].hist()"
   ]
  },
  {
   "cell_type": "code",
   "execution_count": 11,
   "metadata": {},
   "outputs": [
    {
     "data": {
      "text/html": [
       "<div>\n",
       "<style scoped>\n",
       "    .dataframe tbody tr th:only-of-type {\n",
       "        vertical-align: middle;\n",
       "    }\n",
       "\n",
       "    .dataframe tbody tr th {\n",
       "        vertical-align: top;\n",
       "    }\n",
       "\n",
       "    .dataframe thead th {\n",
       "        text-align: right;\n",
       "    }\n",
       "</style>\n",
       "<table border=\"1\" class=\"dataframe\">\n",
       "  <thead>\n",
       "    <tr style=\"text-align: right;\">\n",
       "      <th></th>\n",
       "      <th>V_ACCT_LGHT</th>\n",
       "      <th>V_N_VM_MESS</th>\n",
       "      <th>V_T_DAY_CHG</th>\n",
       "      <th>V_T_EVE_CALLS</th>\n",
       "      <th>V_T_EVE_CHG</th>\n",
       "      <th>V_T_NIG_CALLS</th>\n",
       "      <th>V_T_NIG_CHG</th>\n",
       "      <th>V_T_INT_CALLS</th>\n",
       "      <th>V_T_INT_CHG</th>\n",
       "      <th>V_CS_CALLS</th>\n",
       "    </tr>\n",
       "  </thead>\n",
       "  <tbody>\n",
       "    <tr>\n",
       "      <th>V_ACCT_LGHT</th>\n",
       "      <td>1.000000</td>\n",
       "      <td>-0.002289</td>\n",
       "      <td>0.022809</td>\n",
       "      <td>0.030887</td>\n",
       "      <td>-0.000528</td>\n",
       "      <td>0.004164</td>\n",
       "      <td>-0.011746</td>\n",
       "      <td>0.034243</td>\n",
       "      <td>0.016511</td>\n",
       "      <td>-0.005611</td>\n",
       "    </tr>\n",
       "    <tr>\n",
       "      <th>V_N_VM_MESS</th>\n",
       "      <td>-0.002289</td>\n",
       "      <td>1.000000</td>\n",
       "      <td>-0.000843</td>\n",
       "      <td>-0.007781</td>\n",
       "      <td>0.021667</td>\n",
       "      <td>-0.004223</td>\n",
       "      <td>-0.001643</td>\n",
       "      <td>0.014644</td>\n",
       "      <td>0.001329</td>\n",
       "      <td>-0.010155</td>\n",
       "    </tr>\n",
       "    <tr>\n",
       "      <th>V_T_DAY_CHG</th>\n",
       "      <td>0.022809</td>\n",
       "      <td>-0.000843</td>\n",
       "      <td>1.000000</td>\n",
       "      <td>0.008669</td>\n",
       "      <td>0.007000</td>\n",
       "      <td>0.007896</td>\n",
       "      <td>0.001020</td>\n",
       "      <td>0.004583</td>\n",
       "      <td>-0.002633</td>\n",
       "      <td>-0.014642</td>\n",
       "    </tr>\n",
       "    <tr>\n",
       "      <th>V_T_EVE_CALLS</th>\n",
       "      <td>0.030887</td>\n",
       "      <td>-0.007781</td>\n",
       "      <td>0.008669</td>\n",
       "      <td>1.000000</td>\n",
       "      <td>-0.008791</td>\n",
       "      <td>0.015189</td>\n",
       "      <td>0.012802</td>\n",
       "      <td>-0.001813</td>\n",
       "      <td>-0.019933</td>\n",
       "      <td>-0.017936</td>\n",
       "    </tr>\n",
       "    <tr>\n",
       "      <th>V_T_EVE_CHG</th>\n",
       "      <td>-0.000528</td>\n",
       "      <td>0.021667</td>\n",
       "      <td>0.007000</td>\n",
       "      <td>-0.008791</td>\n",
       "      <td>1.000000</td>\n",
       "      <td>-0.012395</td>\n",
       "      <td>-0.016811</td>\n",
       "      <td>0.015583</td>\n",
       "      <td>-0.001942</td>\n",
       "      <td>-0.033219</td>\n",
       "    </tr>\n",
       "    <tr>\n",
       "      <th>V_T_NIG_CALLS</th>\n",
       "      <td>0.004164</td>\n",
       "      <td>-0.004223</td>\n",
       "      <td>0.007896</td>\n",
       "      <td>0.015189</td>\n",
       "      <td>-0.012395</td>\n",
       "      <td>1.000000</td>\n",
       "      <td>0.011645</td>\n",
       "      <td>-0.001237</td>\n",
       "      <td>0.003764</td>\n",
       "      <td>-0.016579</td>\n",
       "    </tr>\n",
       "    <tr>\n",
       "      <th>V_T_NIG_CHG</th>\n",
       "      <td>-0.011746</td>\n",
       "      <td>-0.001643</td>\n",
       "      <td>0.001020</td>\n",
       "      <td>0.012802</td>\n",
       "      <td>-0.016811</td>\n",
       "      <td>0.011645</td>\n",
       "      <td>1.000000</td>\n",
       "      <td>0.003888</td>\n",
       "      <td>-0.029332</td>\n",
       "      <td>-0.029909</td>\n",
       "    </tr>\n",
       "    <tr>\n",
       "      <th>V_T_INT_CALLS</th>\n",
       "      <td>0.034243</td>\n",
       "      <td>0.014644</td>\n",
       "      <td>0.004583</td>\n",
       "      <td>-0.001813</td>\n",
       "      <td>0.015583</td>\n",
       "      <td>-0.001237</td>\n",
       "      <td>0.003888</td>\n",
       "      <td>1.000000</td>\n",
       "      <td>-0.005425</td>\n",
       "      <td>-0.006292</td>\n",
       "    </tr>\n",
       "    <tr>\n",
       "      <th>V_T_INT_CHG</th>\n",
       "      <td>0.016511</td>\n",
       "      <td>0.001329</td>\n",
       "      <td>-0.002633</td>\n",
       "      <td>-0.019933</td>\n",
       "      <td>-0.001942</td>\n",
       "      <td>0.003764</td>\n",
       "      <td>-0.029332</td>\n",
       "      <td>-0.005425</td>\n",
       "      <td>1.000000</td>\n",
       "      <td>-0.008844</td>\n",
       "    </tr>\n",
       "    <tr>\n",
       "      <th>V_CS_CALLS</th>\n",
       "      <td>-0.005611</td>\n",
       "      <td>-0.010155</td>\n",
       "      <td>-0.014642</td>\n",
       "      <td>-0.017936</td>\n",
       "      <td>-0.033219</td>\n",
       "      <td>-0.016579</td>\n",
       "      <td>-0.029909</td>\n",
       "      <td>-0.006292</td>\n",
       "      <td>-0.008844</td>\n",
       "      <td>1.000000</td>\n",
       "    </tr>\n",
       "  </tbody>\n",
       "</table>\n",
       "</div>"
      ],
      "text/plain": [
       "               V_ACCT_LGHT  V_N_VM_MESS  V_T_DAY_CHG  V_T_EVE_CALLS  \\\n",
       "V_ACCT_LGHT       1.000000    -0.002289     0.022809       0.030887   \n",
       "V_N_VM_MESS      -0.002289     1.000000    -0.000843      -0.007781   \n",
       "V_T_DAY_CHG       0.022809    -0.000843     1.000000       0.008669   \n",
       "V_T_EVE_CALLS     0.030887    -0.007781     0.008669       1.000000   \n",
       "V_T_EVE_CHG      -0.000528     0.021667     0.007000      -0.008791   \n",
       "V_T_NIG_CALLS     0.004164    -0.004223     0.007896       0.015189   \n",
       "V_T_NIG_CHG      -0.011746    -0.001643     0.001020       0.012802   \n",
       "V_T_INT_CALLS     0.034243     0.014644     0.004583      -0.001813   \n",
       "V_T_INT_CHG       0.016511     0.001329    -0.002633      -0.019933   \n",
       "V_CS_CALLS       -0.005611    -0.010155    -0.014642      -0.017936   \n",
       "\n",
       "               V_T_EVE_CHG  V_T_NIG_CALLS  V_T_NIG_CHG  V_T_INT_CALLS  \\\n",
       "V_ACCT_LGHT      -0.000528       0.004164    -0.011746       0.034243   \n",
       "V_N_VM_MESS       0.021667      -0.004223    -0.001643       0.014644   \n",
       "V_T_DAY_CHG       0.007000       0.007896     0.001020       0.004583   \n",
       "V_T_EVE_CALLS    -0.008791       0.015189     0.012802      -0.001813   \n",
       "V_T_EVE_CHG       1.000000      -0.012395    -0.016811       0.015583   \n",
       "V_T_NIG_CALLS    -0.012395       1.000000     0.011645      -0.001237   \n",
       "V_T_NIG_CHG      -0.016811       0.011645     1.000000       0.003888   \n",
       "V_T_INT_CALLS     0.015583      -0.001237     0.003888       1.000000   \n",
       "V_T_INT_CHG      -0.001942       0.003764    -0.029332      -0.005425   \n",
       "V_CS_CALLS       -0.033219      -0.016579    -0.029909      -0.006292   \n",
       "\n",
       "               V_T_INT_CHG  V_CS_CALLS  \n",
       "V_ACCT_LGHT       0.016511   -0.005611  \n",
       "V_N_VM_MESS       0.001329   -0.010155  \n",
       "V_T_DAY_CHG      -0.002633   -0.014642  \n",
       "V_T_EVE_CALLS    -0.019933   -0.017936  \n",
       "V_T_EVE_CHG      -0.001942   -0.033219  \n",
       "V_T_NIG_CALLS     0.003764   -0.016579  \n",
       "V_T_NIG_CHG      -0.029332   -0.029909  \n",
       "V_T_INT_CALLS    -0.005425   -0.006292  \n",
       "V_T_INT_CHG       1.000000   -0.008844  \n",
       "V_CS_CALLS       -0.008844    1.000000  "
      ]
     },
     "execution_count": 11,
     "metadata": {},
     "output_type": "execute_result"
    }
   ],
   "source": [
    "df[varc].corr()"
   ]
  },
  {
   "cell_type": "code",
   "execution_count": 12,
   "metadata": {},
   "outputs": [],
   "source": [
    "for c in vard:\n",
    "    aux = df[[c,'TARGET']].copy()\n",
    "    aux['n']=1\n",
    "    aux=aux.pivot_table(columns='TARGET',\n",
    "                    index=c,\n",
    "                    aggfunc='count',\n",
    "                    values='n',\n",
    "                    fill_value=0)\n",
    "    aux.reset_index(inplace=True)\n",
    "    aux[0]/=aux[0].sum()\n",
    "    aux[1]/=aux[1].sum()\n",
    "    aux['woe'] = np.log(aux[0]/aux[1])\n",
    "    df = df.merge(aux[['woe',c]],how='inner',on=c)\n",
    "    df.rename(columns={'woe':'w_%s'%c},inplace=True)"
   ]
  },
  {
   "cell_type": "code",
   "execution_count": 13,
   "metadata": {},
   "outputs": [
    {
     "data": {
      "text/html": [
       "<div>\n",
       "<style scoped>\n",
       "    .dataframe tbody tr th:only-of-type {\n",
       "        vertical-align: middle;\n",
       "    }\n",
       "\n",
       "    .dataframe tbody tr th {\n",
       "        vertical-align: top;\n",
       "    }\n",
       "\n",
       "    .dataframe thead th {\n",
       "        text-align: right;\n",
       "    }\n",
       "</style>\n",
       "<table border=\"1\" class=\"dataframe\">\n",
       "  <thead>\n",
       "    <tr style=\"text-align: right;\">\n",
       "      <th></th>\n",
       "      <th>V_ACCT_LGHT</th>\n",
       "      <th>C_IP</th>\n",
       "      <th>C_VMP</th>\n",
       "      <th>V_N_VM_MESS</th>\n",
       "      <th>V_T_DAY_CHG</th>\n",
       "      <th>V_T_EVE_CALLS</th>\n",
       "      <th>V_T_EVE_CHG</th>\n",
       "      <th>V_T_NIG_CALLS</th>\n",
       "      <th>V_T_NIG_CHG</th>\n",
       "      <th>V_T_INT_CALLS</th>\n",
       "      <th>V_T_INT_CHG</th>\n",
       "      <th>V_CS_CALLS</th>\n",
       "      <th>TARGET</th>\n",
       "      <th>ID</th>\n",
       "      <th>w_C_IP</th>\n",
       "      <th>w_C_VMP</th>\n",
       "    </tr>\n",
       "  </thead>\n",
       "  <tbody>\n",
       "    <tr>\n",
       "      <th>0</th>\n",
       "      <td>128</td>\n",
       "      <td>No</td>\n",
       "      <td>Yes</td>\n",
       "      <td>25</td>\n",
       "      <td>45.07</td>\n",
       "      <td>99</td>\n",
       "      <td>16.78</td>\n",
       "      <td>91</td>\n",
       "      <td>11.01</td>\n",
       "      <td>3</td>\n",
       "      <td>2.70</td>\n",
       "      <td>1</td>\n",
       "      <td>0</td>\n",
       "      <td>1</td>\n",
       "      <td>0.261388</td>\n",
       "      <td>0.527991</td>\n",
       "    </tr>\n",
       "    <tr>\n",
       "      <th>1</th>\n",
       "      <td>107</td>\n",
       "      <td>No</td>\n",
       "      <td>Yes</td>\n",
       "      <td>26</td>\n",
       "      <td>27.47</td>\n",
       "      <td>103</td>\n",
       "      <td>16.62</td>\n",
       "      <td>103</td>\n",
       "      <td>11.45</td>\n",
       "      <td>3</td>\n",
       "      <td>3.70</td>\n",
       "      <td>1</td>\n",
       "      <td>0</td>\n",
       "      <td>2</td>\n",
       "      <td>0.261388</td>\n",
       "      <td>0.527991</td>\n",
       "    </tr>\n",
       "    <tr>\n",
       "      <th>2</th>\n",
       "      <td>85</td>\n",
       "      <td>No</td>\n",
       "      <td>Yes</td>\n",
       "      <td>27</td>\n",
       "      <td>33.39</td>\n",
       "      <td>90</td>\n",
       "      <td>23.88</td>\n",
       "      <td>75</td>\n",
       "      <td>4.02</td>\n",
       "      <td>4</td>\n",
       "      <td>3.73</td>\n",
       "      <td>1</td>\n",
       "      <td>0</td>\n",
       "      <td>8</td>\n",
       "      <td>0.261388</td>\n",
       "      <td>0.527991</td>\n",
       "    </tr>\n",
       "    <tr>\n",
       "      <th>3</th>\n",
       "      <td>76</td>\n",
       "      <td>No</td>\n",
       "      <td>Yes</td>\n",
       "      <td>33</td>\n",
       "      <td>32.25</td>\n",
       "      <td>65</td>\n",
       "      <td>18.09</td>\n",
       "      <td>108</td>\n",
       "      <td>7.46</td>\n",
       "      <td>5</td>\n",
       "      <td>2.70</td>\n",
       "      <td>1</td>\n",
       "      <td>0</td>\n",
       "      <td>10</td>\n",
       "      <td>0.261388</td>\n",
       "      <td>0.527991</td>\n",
       "    </tr>\n",
       "    <tr>\n",
       "      <th>4</th>\n",
       "      <td>57</td>\n",
       "      <td>No</td>\n",
       "      <td>Yes</td>\n",
       "      <td>39</td>\n",
       "      <td>36.21</td>\n",
       "      <td>112</td>\n",
       "      <td>16.24</td>\n",
       "      <td>115</td>\n",
       "      <td>8.22</td>\n",
       "      <td>3</td>\n",
       "      <td>2.57</td>\n",
       "      <td>0</td>\n",
       "      <td>0</td>\n",
       "      <td>17</td>\n",
       "      <td>0.261388</td>\n",
       "      <td>0.527991</td>\n",
       "    </tr>\n",
       "  </tbody>\n",
       "</table>\n",
       "</div>"
      ],
      "text/plain": [
       "   V_ACCT_LGHT C_IP C_VMP  V_N_VM_MESS  V_T_DAY_CHG  V_T_EVE_CALLS  \\\n",
       "0          128   No   Yes           25        45.07             99   \n",
       "1          107   No   Yes           26        27.47            103   \n",
       "2           85   No   Yes           27        33.39             90   \n",
       "3           76   No   Yes           33        32.25             65   \n",
       "4           57   No   Yes           39        36.21            112   \n",
       "\n",
       "   V_T_EVE_CHG  V_T_NIG_CALLS  V_T_NIG_CHG  V_T_INT_CALLS  V_T_INT_CHG  \\\n",
       "0        16.78             91        11.01              3         2.70   \n",
       "1        16.62            103        11.45              3         3.70   \n",
       "2        23.88             75         4.02              4         3.73   \n",
       "3        18.09            108         7.46              5         2.70   \n",
       "4        16.24            115         8.22              3         2.57   \n",
       "\n",
       "   V_CS_CALLS  TARGET  ID    w_C_IP   w_C_VMP  \n",
       "0           1       0   1  0.261388  0.527991  \n",
       "1           1       0   2  0.261388  0.527991  \n",
       "2           1       0   8  0.261388  0.527991  \n",
       "3           1       0  10  0.261388  0.527991  \n",
       "4           0       0  17  0.261388  0.527991  "
      ]
     },
     "execution_count": 13,
     "metadata": {},
     "output_type": "execute_result"
    }
   ],
   "source": [
    "df.head()"
   ]
  },
  {
   "cell_type": "code",
   "execution_count": 14,
   "metadata": {},
   "outputs": [],
   "source": [
    "varw = [v for v in df.columns if v[:2]=='w_']"
   ]
  },
  {
   "cell_type": "code",
   "execution_count": 15,
   "metadata": {},
   "outputs": [],
   "source": [
    "from sklearn.metrics import roc_auc_score\n",
    "from sklearn.metrics import accuracy_score\n",
    "from sklearn.model_selection import GridSearchCV,RandomizedSearchCV\n",
    "from sklearn.model_selection import train_test_split\n",
    "from sklearn.preprocessing import StandardScaler, MinMaxScaler\n",
    "from sklearn.manifold import MDS\n",
    "from sklearn.decomposition import PCA\n",
    "from sklearn.pipeline import make_pipeline\n",
    "import pickle"
   ]
  },
  {
   "cell_type": "markdown",
   "metadata": {},
   "source": [
    "#### Preparación de TAD "
   ]
  },
  {
   "cell_type": "code",
   "execution_count": 16,
   "metadata": {},
   "outputs": [],
   "source": [
    "X = df[varc+varw].copy()\n",
    "y = df['TARGET'].copy()\n",
    "pipe_sc = make_pipeline(MinMaxScaler()) \n",
    "pipe_pca = make_pipeline(StandardScaler(),PCA(),MinMaxScaler())\n",
    "mds = MDS(n_components=5)"
   ]
  },
  {
   "cell_type": "code",
   "execution_count": 18,
   "metadata": {},
   "outputs": [
    {
     "name": "stderr",
     "output_type": "stream",
     "text": [
      "/home/jose/Documentos/rubik/lib64/python3.6/site-packages/sklearn/preprocessing/data.py:323: DataConversionWarning: Data with input dtype int64, float64 were all converted to float64 by MinMaxScaler.\n",
      "  return self.partial_fit(X, y)\n",
      "/home/jose/Documentos/rubik/lib64/python3.6/site-packages/sklearn/preprocessing/data.py:625: DataConversionWarning: Data with input dtype int64, float64 were all converted to float64 by StandardScaler.\n",
      "  return self.partial_fit(X, y)\n",
      "/home/jose/Documentos/rubik/lib64/python3.6/site-packages/sklearn/base.py:462: DataConversionWarning: Data with input dtype int64, float64 were all converted to float64 by StandardScaler.\n",
      "  return self.fit(X, **fit_params).transform(X)\n"
     ]
    }
   ],
   "source": [
    "Xs=pd.DataFrame(pipe_sc.fit_transform(X),columns=X.columns)\n",
    "Xpca=pd.DataFrame(pipe_pca.fit_transform(X),\n",
    "                  columns=['p%d'%x for x in range(1,len(X.columns)+1)])\n",
    "#Xmds = pd.DataFrame(pipe_sc.fit_transform(mds.fit_transform(Xs)),\n",
    "#                    columns=['p%d'%x for x in range(1,6)])"
   ]
  },
  {
   "cell_type": "code",
   "execution_count": 19,
   "metadata": {},
   "outputs": [],
   "source": [
    "def metricas(modelo,Xt,Xv,yt,yv):\n",
    "    print('roc:\\n')\n",
    "    print(roc_auc_score(y_true=yt,y_score=modelo.predict_proba(Xt)[:,1]))\n",
    "    print(roc_auc_score(y_true=yv,y_score=modelo.predict_proba(Xv)[:,1]))\n",
    "    print('accuracy:\\n')\n",
    "    print(accuracy_score(y_true=yt,y_pred=modelo.predict(Xt)))\n",
    "    print(accuracy_score(y_true=yv,y_pred=modelo.predict(Xv)))"
   ]
  },
  {
   "cell_type": "markdown",
   "metadata": {},
   "source": [
    "#### Árbol de decisión"
   ]
  },
  {
   "cell_type": "code",
   "execution_count": 20,
   "metadata": {},
   "outputs": [],
   "source": [
    "param= dict(criterion = ['gini','entropy'],\n",
    "splitter = ['best','random'],\n",
    "max_depth = range(1,10))"
   ]
  },
  {
   "cell_type": "code",
   "execution_count": 21,
   "metadata": {},
   "outputs": [
    {
     "name": "stdout",
     "output_type": "stream",
     "text": [
      "roc:\n",
      "\n",
      "1.0\n",
      "0.8015298688683826\n",
      "accuracy:\n",
      "\n",
      "1.0\n",
      "0.9067796610169492\n"
     ]
    },
    {
     "name": "stderr",
     "output_type": "stream",
     "text": [
      "/home/jose/Documentos/rubik/lib64/python3.6/site-packages/sklearn/model_selection/_split.py:2179: FutureWarning: From version 0.21, test_size will always complement train_size unless both are specified.\n",
      "  FutureWarning)\n"
     ]
    },
    {
     "name": "stdout",
     "output_type": "stream",
     "text": [
      "roc:\n",
      "\n",
      "0.9185678694398566\n",
      "0.94834871296746\n",
      "accuracy:\n",
      "\n",
      "0.9522077922077922\n",
      "0.9624697336561744\n"
     ]
    }
   ],
   "source": [
    "Xt, Xv, yt, yv = train_test_split(X,y,train_size=0.7)\n",
    "\n",
    "from sklearn.tree import DecisionTreeClassifier\n",
    "modelo = DecisionTreeClassifier()\n",
    "modelo.fit(Xt,yt)\n",
    "\n",
    "metricas(modelo,Xt,Xv,yt,yv)\n",
    "\n",
    "\n",
    "grid = GridSearchCV(param_grid=param,estimator=modelo,cv=5,\n",
    "                    n_jobs=-1,\n",
    "                    scoring='roc_auc')\n",
    "grid.fit(X,y)\n",
    "\n",
    "\n",
    "metricas(grid.best_estimator_,Xt,Xv,yt,yv)\n"
   ]
  },
  {
   "cell_type": "code",
   "execution_count": 22,
   "metadata": {},
   "outputs": [],
   "source": [
    "pickle.dump(grid.best_estimator_,open('arbol_entrenado.mod','wb'))"
   ]
  },
  {
   "cell_type": "markdown",
   "metadata": {},
   "source": [
    "#### Red Neuronal "
   ]
  },
  {
   "cell_type": "code",
   "execution_count": null,
   "metadata": {},
   "outputs": [],
   "source": [
    "param=dict(hidden_layer_sizes = [(x,y,z,) for x in range(5,35,5) for y in range(5,35,5) for z in range(5,35,5)],\n",
    "           activation = ['identity', 'logistic', 'tanh', 'relu'],\n",
    "           max_iterations=10000,\n",
    "learning_rate = ['constant', 'invscaling', 'adaptive'])"
   ]
  },
  {
   "cell_type": "code",
   "execution_count": null,
   "metadata": {},
   "outputs": [],
   "source": [
    "%%time\n",
    "Xt, Xv, yt, yv = train_test_split(Xs,y,train_size=0.7)\n",
    "\n",
    "from sklearn.neural_network import MLPClassifier\n",
    "modelo = MLPClassifier()\n",
    "modelo.fit(Xt,yt)\n",
    "\n",
    "metricas(modelo,Xt,Xv,yt,yv)\n",
    "\n",
    "\n",
    "grid = RandomizedSearchCV(param_distributions=param,n_iter=100,\n",
    "                          estimator=modelo,cv=5,n_jobs=-1,\n",
    "                          scoring='roc_auc',verbose=True)\n",
    "grid.fit(X,y)\n",
    "\n",
    "\n",
    "metricas(grid.best_estimator_,Xt,Xv,yt,yv)\n"
   ]
  },
  {
   "cell_type": "code",
   "execution_count": null,
   "metadata": {},
   "outputs": [],
   "source": [
    "from sklearn.linear_model import SGDClassifier"
   ]
  },
  {
   "cell_type": "markdown",
   "metadata": {},
   "source": [
    "#### XGBoost "
   ]
  },
  {
   "cell_type": "code",
   "execution_count": 23,
   "metadata": {},
   "outputs": [],
   "source": [
    "from xgboost.sklearn import XGBClassifier"
   ]
  },
  {
   "cell_type": "code",
   "execution_count": 24,
   "metadata": {},
   "outputs": [],
   "source": [
    "modelo = XGBClassifier()"
   ]
  },
  {
   "cell_type": "code",
   "execution_count": 27,
   "metadata": {},
   "outputs": [],
   "source": [
    "param=dict(max_depth = range(2,10),\n",
    "learning_rate = np.arange(0.1,1,0.1),\n",
    "n_estimators = range(10,200,10))"
   ]
  },
  {
   "cell_type": "code",
   "execution_count": 29,
   "metadata": {},
   "outputs": [
    {
     "name": "stdout",
     "output_type": "stream",
     "text": [
      "roc:\n",
      "\n",
      "0.9707308083494294\n",
      "0.9317872753763964\n",
      "accuracy:\n",
      "\n",
      "0.9709090909090909\n",
      "0.9588377723970944\n",
      "Fitting 5 folds for each of 200 candidates, totalling 1000 fits\n"
     ]
    },
    {
     "name": "stderr",
     "output_type": "stream",
     "text": [
      "[Parallel(n_jobs=-1)]: Using backend LokyBackend with 4 concurrent workers.\n",
      "[Parallel(n_jobs=-1)]: Done  42 tasks      | elapsed:    5.2s\n",
      "[Parallel(n_jobs=-1)]: Done 192 tasks      | elapsed:   15.8s\n",
      "[Parallel(n_jobs=-1)]: Done 442 tasks      | elapsed:   33.0s\n",
      "[Parallel(n_jobs=-1)]: Done 792 tasks      | elapsed:  1.0min\n"
     ]
    },
    {
     "name": "stdout",
     "output_type": "stream",
     "text": [
      "roc:\n",
      "\n",
      "0.996017971614926\n",
      "0.9935162700339971\n",
      "accuracy:\n",
      "\n",
      "0.9797402597402597\n",
      "0.9842615012106537\n"
     ]
    },
    {
     "name": "stderr",
     "output_type": "stream",
     "text": [
      "[Parallel(n_jobs=-1)]: Done 1000 out of 1000 | elapsed:  1.3min finished\n"
     ]
    }
   ],
   "source": [
    "modelo.fit(Xt,yt)\n",
    "\n",
    "metricas(modelo,Xt,Xv,yt,yv)\n",
    "\n",
    "grid = RandomizedSearchCV(param_distributions=param,n_iter=200,\n",
    "                          estimator=modelo,cv=5,n_jobs=-1,\n",
    "                          scoring='accuracy',verbose=True)\n",
    "grid.fit(X,y)\n",
    "\n",
    "\n",
    "metricas(grid.best_estimator_,Xt,Xv,yt,yv)\n"
   ]
  },
  {
   "cell_type": "code",
   "execution_count": 34,
   "metadata": {},
   "outputs": [
    {
     "data": {
      "text/plain": [
       "<matplotlib.axes._subplots.AxesSubplot at 0x7fba8858b898>"
      ]
     },
     "execution_count": 34,
     "metadata": {},
     "output_type": "execute_result"
    },
    {
     "data": {
      "image/png": "[encoded data removed]",
      "text/plain": [
       "<Figure size 432x288 with 1 Axes>"
      ]
     },
     "metadata": {
      "needs_background": "light"
     },
     "output_type": "display_data"
    }
   ],
   "source": [
    "sns.distplot(modelo.predict_proba(Xt)[:,1])"
   ]
  },
  {
   "cell_type": "code",
   "execution_count": 35,
   "metadata": {},
   "outputs": [],
   "source": [
    "from sklearn.linear_model import LogisticRegression"
   ]
  },
  {
   "cell_type": "code",
   "execution_count": 36,
   "metadata": {},
   "outputs": [
    {
     "name": "stdout",
     "output_type": "stream",
     "text": [
      "roc:\n",
      "\n",
      "0.8025081880021275\n",
      "0.8125667799902865\n",
      "accuracy:\n",
      "\n",
      "0.8711688311688311\n",
      "0.864406779661017\n"
     ]
    },
    {
     "name": "stderr",
     "output_type": "stream",
     "text": [
      "/home/jose/Documentos/rubik/lib64/python3.6/site-packages/sklearn/linear_model/logistic.py:433: FutureWarning: Default solver will be changed to 'lbfgs' in 0.22. Specify a solver to silence this warning.\n",
      "  FutureWarning)\n"
     ]
    }
   ],
   "source": [
    "modelo = LogisticRegression()\n",
    "modelo.fit(Xt,yt)\n",
    "\n",
    "metricas(modelo,Xt,Xv,yt,yv)\n"
   ]
  },
  {
   "cell_type": "code",
   "execution_count": 37,
   "metadata": {},
   "outputs": [
    {
     "name": "stderr",
     "output_type": "stream",
     "text": [
      "/home/jose/Documentos/rubik/lib64/python3.6/site-packages/scipy/stats/stats.py:1713: FutureWarning: Using a non-tuple sequence for multidimensional indexing is deprecated; use `arr[tuple(seq)]` instead of `arr[seq]`. In the future this will be interpreted as an array index, `arr[np.array(seq)]`, which will result either in an error or a different result.\n",
      "  return np.add.reduce(sorted[indexer] * weights, axis=axis) / sumval\n"
     ]
    },
    {
     "data": {
      "text/plain": [
       "<matplotlib.axes._subplots.AxesSubplot at 0x7fba4bbdff28>"
      ]
     },
     "execution_count": 37,
     "metadata": {},
     "output_type": "execute_result"
    },
    {
     "data": {
      "image/png": "[encoded data removed]",
      "text/plain": [
       "<Figure size 432x288 with 1 Axes>"
      ]
     },
     "metadata": {
      "needs_background": "light"
     },
     "output_type": "display_data"
    }
   ],
   "source": [
    "sns.distplot(modelo.predict_proba(Xt)[:,1])"
   ]
  },
  {
   "cell_type": "code",
   "execution_count": null,
   "metadata": {},
   "outputs": [],
   "source": []
  }
 ],
 "metadata": {
  "kernelspec": {
   "display_name": "VirtualPythonPrincipal",
   "language": "python",
   "name": "virtualpythonprincipal"
  },
  "language_info": {
   "codemirror_mode": {
    "name": "ipython",
    "version": 3
   },
   "file_extension": ".py",
   "mimetype": "text/x-python",
   "name": "python",
   "nbconvert_exporter": "python",
   "pygments_lexer": "ipython3",
   "version": "3.8.2"
  }
 },
 "nbformat": 4,
 "nbformat_minor": 2
}
